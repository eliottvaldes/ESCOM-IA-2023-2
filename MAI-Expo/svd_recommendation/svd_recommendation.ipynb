{
 "cells": [
  {
   "cell_type": "code",
   "execution_count": 1,
   "metadata": {},
   "outputs": [],
   "source": [
    "import tarfile\n",
    "import pandas as pd\n",
    "import numpy as np\n",
    "import time"
   ]
  },
  {
   "cell_type": "code",
   "execution_count": 2,
   "metadata": {},
   "outputs": [
    {
     "name": "stdout",
     "output_type": "stream",
     "text": [
      "Files in tar archive:\n",
      "?rwxr-xr-x jmcauley/users          0 2014-01-02 12:57:42 lthing_data/ \n",
      "?rw-r--r-- jmcauley/users    4824989 2014-01-02 12:55:12 lthing_data/edges.txt \n",
      "?rw-r--r-- jmcauley/users 1665980007 2014-01-02 12:55:09 lthing_data/reviews.txt \n",
      "\n",
      "Sample records:\n",
      "b'reviews = {}\\n'\n",
      "b'reviews[(\\'73960\\', \\'Elizabeth.Wong98\\')] = {\\'comment\\': \"Every evening, the brave queen of Persia, Shahrazad, goes into the Sultan\\'s rooms and begins a weave of words, hoping to entice the Sultan to let her live another night so she can continue her story. But Shahrazad has a big problem: She is running out of stories. With a delicate stroke of luck, a cripple girl, Marjan, ventures into the harem with her Aunt to sell various wares. As her Aunt is selling things, Marjan entertains some of the children with a story. Unbeknownst to Marjan, Shahrazad\\'s sister, Dunyazad, has heard her telling the story. Marjan is taken directly to Shahrazad and asked to recount the story. The tale keeps the queen alive another night and the queen decides to keep Marjan.\\\\n As her helper, Marjan has to go into the city and look for tales that the Sultan has not heard. She has several close calls with the Kathun, the voracious female who rules the harem and who is set against \\\\nShahrazad. Finally the Sultan proclaims that he will stop killing women every night. Unfortunately, Marjan is still in danger and has to be taken out of the city along with Zaynab, an old woman who assisted Marjan. \\\\n Since my mom suggested this book to me, I thought that it would be boring. It was quite the opposite. I was intrigued from the very beginning to the end. I loved the byplay between the characters and the thrilling escapes from various places. One thing that didn\\'t please me was the ending. The ending was abrupt; the story just kind of stopped and left you wondering what happened next in Marjan\\'s life. But all in all, this book was amazing and I have read and re-read it many times \", \\'nhelpful\\': 0, \\'unixtime\\': 1332288000, \\'work\\': \\'73960\\', \\'flags\\': [], \\'user\\': \\'Elizabeth.Wong98\\', \\'stars\\': 4.5, \\'time\\': \\'Mar 21, 2012\\'}\\n'\n",
      "b\"reviews[('69413', 'rivkat')] = {'comment': 'Its the 1983-84 school year and Edward Zanni of Hoboken has to figure out how to get into, and then to pay for, Juilliard when his father insists that hell only pay for a business major. Fortunately, hes got friends; unfortunately, their ideas tend towards the felonious. A bunch of comic setpieces strung together with bare connective tissue. The characters were all trying too hard to be charming, which makes them typical teens but no more fun for that. Bonus for varying sexualities among the teens, but points off for a 2004 novel in which Edwards 1984 observations are way too precious (Madonnas a flash in the pan, what does that Matthew Broderick fellow have that I dont, etc.). ', 'nhelpful': 0, 'unixtime': 1253404800, 'work': '69413', 'flags': [], 'user': 'rivkat', 'stars': 3.0, 'time': 'Sep 20, 2009'}\\n\"\n",
      "b'reviews[(\\'9523995\\', \\'suz.haugland\\')] = {\\'comment\\': \"I became privy to this book, when another author that I enjoy reading recommended it to her fans, as Brenna Yovanoff is one of her friends. The way she described the premise of the book and the author herself, made me want to look into reading it. I immediately knew when I saw the cover, all bets were off. This would definitely be a book that I would enjoy.\\\\nThis book easily fits into a genre that I\\'m no stranger to, at the moment. Actually, haven\\'t been for years, if I\\'m honest. I like the main character Mackie and the fact that he wants to nothing more to be normal, which is quite the opposite of what he actually is. I also enjoy the fact that Emma, his sister loves him for who he is and not necessarily what he is, and that Roswell comes across as a very understanding and supportive friend that he can count on. \\\\nAll throughout the back half half of this story, I found myself strongly associating the sacrifice of one of the town\\'s baby with another short story I\\'d read years ago, The Lottery. The two stories are not exactly the same, but there is a thread of similarity there in that one sense. It\\'s almost as if, they\\'re sacrificing the one for the good of the many, and the towns people look the other way because they\\'re too afraid to look at the truth. \\\\nThe character\\'s that come out of the House of Mayhem just may very well be some of the most colorful, unique, and favorite character\\'s ever among many. From the Morrigan to the little pink girl, to the dead girls, and Carlina Carlyle it was all so interesting. The history and the mythology there, the fact that there was a whole world that lay beneath the two of Gentry in the Slag Heap. \\\\nStrange how sometimes something so ugly can come across so beautiful in ways that you couldn\\'t begin to imagine, something that takes on a life of their own. Even the Lady and the Cutter, had their purposes. And the story seemed to re-iterate that when you give something a name, it gives that thing power - whatever it is. It\\'s not exactly that these beings were evil and ugly, so much as they were just different and creepy and had their own agenda\\'s and reasonings behind their actions. They were very well portrayed in everything they did or said. Nothing was without meaning.\\\\nThe author\\'s attention devoted to the imagery and detail of the story, showed in her vivid imagination, when creating The House of Mayhem and the spooky town of Gentry and all of the people and ugly things were part of what made this first published work of hers so phenomenal. \\\\nThe only drawback for me as far as this book goes, was the pacing of it. For me, personally, it started off pretty slow and didn\\'t seem to really pick up and gain momentum until about half way into the story itself. But, all of that aside, I really wanted to finish this book because I truly felt like it had potential and the back half of it just did not disappoint me. The rich storytelling and the creative imagery that she wove into it, has made me enjoy this book in ways that I hadn\\'t imagined I would. \", \\'nhelpful\\': 0, \\'unixtime\\': 1299888000, \\'work\\': \\'9523995\\', \\'flags\\': [], \\'user\\': \\'suz.haugland\\', \\'stars\\': 4.0, \\'time\\': \\'Mar 12, 2011\\'}\\n'\n",
      "b\"reviews[('368228', 'amoskovacs')] = {'comment': '   .    ', 'nhelpful': 0, 'unixtime': 1327276800, 'work': '368228', 'flags': [], 'user': 'amoskovacs', 'stars': 4.0, 'time': 'Jan 23, 2012'}\\n\"\n",
      "b\"reviews[('11243828', 'CandyH')] = {'comment': 'This is a tremendous story of a freed woman and her family being sold into slavery. The story deals with the indignities and humiliations that slaves had to cope with. The ending was a bit of a disappointment as this was such an interesting story. Maybe the ending just means there will be a sequel. Even though it is a fictional story, many historical facts are used to create this tale. All in all it is well worth reading. ', 'nhelpful': 0, 'unixtime': 1329004800, 'work': '11243828', 'flags': [], 'user': 'CandyH', 'stars': 4.0, 'time': 'Feb 12, 2012'}\\n\"\n"
     ]
    }
   ],
   "source": [
    "# Leer el archivo comprimido con datos de reseñas de libros.\n",
    "with tarfile.open(\"./files/lthing_data.tar.gz\") as tar:\n",
    "    # Listar los archivos contenidos en el archivo tar.\n",
    "    print(\"Files in tar archive:\")\n",
    "    tar.list()\n",
    "    # Extraer y mostrar algunos registros de ejemplo de las reseñas.\n",
    "    print(\"\\nSample records:\")\n",
    "    with tar.extractfile(\"lthing_data/reviews.txt\") as file:\n",
    "        count = 0\n",
    "        for line in file:\n",
    "            print(line)\n",
    "            count += 1\n",
    "            if count > 5:\n",
    "                break"
   ]
  },
  {
   "cell_type": "code",
   "execution_count": 3,
   "metadata": {},
   "outputs": [
    {
     "name": "stdout",
     "output_type": "stream",
     "text": [
      "Tiempo de ejecución:  149.9880747795105\n"
     ]
    }
   ],
   "source": [
    "# Crea una lista vacía para almacenar los datos\n",
    "data = []\n",
    "\n",
    "# inicializamos un timer\n",
    "start_time = time.time()\n",
    "\n",
    "# Abre el archivo reviews.txt y léelo línea por línea\n",
    "with open('./files/lthing_data/reviews.txt', 'r', encoding='utf-8') as file:\n",
    "    for line in file:\n",
    "        try:\n",
    "            # Divide la línea en partes usando '=' como separador\n",
    "            parts = line.strip().split('=')\n",
    "            if len(parts) == 2:\n",
    "                # Extrae el usuario, la obra y las estrellas de cada revisión\n",
    "                review_info = eval(parts[1])            \n",
    "                user = review_info['user'] if 'user' in review_info else None\n",
    "                work = review_info['work'] if 'work' in review_info else None\n",
    "                stars = review_info['stars'] if 'stars' in review_info else None\n",
    "                if user and work and stars:\n",
    "                    # Almacena la información en un diccionario\n",
    "                    data.append({'user': user, 'work': work, 'stars': stars})                \n",
    "        except Exception as e:\n",
    "            print(e)\n",
    "            \n",
    "end_time = time.time()            \n",
    "# mostrar el tiempo de ejcucion\n",
    "print(\"Tiempo de ejecución: \", end_time - start_time)"
   ]
  },
  {
   "cell_type": "code",
   "execution_count": 4,
   "metadata": {},
   "outputs": [
    {
     "name": "stdout",
     "output_type": "stream",
     "text": [
      "               user      work  stars\n",
      "0  Elizabeth.Wong98     73960    4.5\n",
      "1            rivkat     69413    3.0\n",
      "2      suz.haugland   9523995    4.0\n",
      "3        amoskovacs    368228    4.0\n",
      "4            CandyH  11243828    4.0\n",
      "\n",
      "Total reviews: 1,377,255\n"
     ]
    }
   ],
   "source": [
    "# Convertir la lista de reseñas en un DataFrame y mostrar algunos ejemplos.\n",
    "reviews = pd.DataFrame(data, columns=[\"user\", \"work\", \"stars\"])\n",
    "\n",
    "# Muestra el DataFrame\n",
    "print(reviews.head())\n",
    "\n",
    "# Muestra la cantidad total de reseñas\n",
    "print(f\"\\nTotal reviews: {len(reviews):,}\")"
   ]
  },
  {
   "cell_type": "code",
   "execution_count": 5,
   "metadata": {},
   "outputs": [
    {
     "name": "stdout",
     "output_type": "stream",
     "text": [
      "              work\n",
      "user              \n",
      "-Eva-          600\n",
      "06nwingert     370\n",
      "1983mk          63\n",
      "1dragones      193\n",
      "1morechapter   271\n"
     ]
    }
   ],
   "source": [
    "# Análisis de usuarios y libros populares.\n",
    "# Contar cuántos libros ha reseñado cada usuario.\n",
    "usercount = reviews[[\"work\",\"user\"]].groupby(\"user\").count()\n",
    "usercount = usercount[usercount[\"work\"] >= 50]\n",
    "\n",
    "# Mostar los usuarios que han reseñado más de 50 libros\n",
    "print(usercount.head())"
   ]
  },
  {
   "cell_type": "code",
   "execution_count": 6,
   "metadata": {},
   "outputs": [
    {
     "name": "stdout",
     "output_type": "stream",
     "text": [
      "          user\n",
      "work          \n",
      "10000      106\n",
      "10001       53\n",
      "1000167    185\n",
      "10001797    53\n",
      "10005525   132\n"
     ]
    }
   ],
   "source": [
    "# Contar cuántos usuarios han reseñado cada libro.\n",
    "workcount = reviews[[\"work\",\"user\"]].groupby(\"work\").count()\n",
    "workcount = workcount[workcount[\"user\"] >= 50]\n",
    "\n",
    "# Mostar los libros que han sido reseñados por más de 50 usuarios\n",
    "print(workcount.head())"
   ]
  },
  {
   "cell_type": "code",
   "execution_count": 7,
   "metadata": {},
   "outputs": [
    {
     "name": "stdout",
     "output_type": "stream",
     "text": [
      "\n",
      "Subset of data:\n",
      "                  user     work  stars\n",
      "5             miyurose  9071901    2.0\n",
      "8           Mamajeanne  1110874    5.0\n",
      "11           funkendub     5852    5.0\n",
      "12       notmyrealname  3620689    2.0\n",
      "13           bluetyson     1472    5.0\n",
      "...                ...      ...    ...\n",
      "1377230          Jim53    30888    3.5\n",
      "1377234      lucybrown     3253    3.5\n",
      "1377235      ElizaJane  7874593    4.5\n",
      "1377247      heidijane  2129329    4.0\n",
      "1377253      tamaranth  4873693    4.5\n",
      "\n",
      "[202485 rows x 3 columns]\n"
     ]
    }
   ],
   "source": [
    "# Filtrar para mantener solo usuarios y libros populares.\n",
    "reviews = reviews[reviews[\"user\"].isin(usercount.index) & reviews[\"work\"].isin(workcount.index)]\n",
    "print(\"\\nSubset of data:\")\n",
    "print(reviews)"
   ]
  },
  {
   "cell_type": "code",
   "execution_count": 8,
   "metadata": {},
   "outputs": [],
   "source": [
    "# Convertir reseñas en una matriz usuario-libro, llenando valores faltantes con cero.\n",
    "reviewmatrix = reviews.pivot(index=\"user\", columns=\"work\", values=\"stars\").fillna(0)\n",
    "matrix = reviewmatrix.values"
   ]
  },
  {
   "cell_type": "code",
   "execution_count": 9,
   "metadata": {},
   "outputs": [],
   "source": [
    "# Realizar descomposición en valores singulares (SVD) de la matriz de reseñas.\n",
    "u, s, vh = np.linalg.svd(matrix, full_matrices=False)"
   ]
  },
  {
   "cell_type": "code",
   "execution_count": 10,
   "metadata": {},
   "outputs": [
    {
     "name": "stdout",
     "output_type": "stream",
     "text": [
      "\n",
      "Singular values:\n",
      "[4.17827635e+02 2.46003247e+02 2.17548010e+02 ... 3.99001819e-15\n",
      " 3.55187476e-15 3.03051879e-15]\n"
     ]
    }
   ],
   "source": [
    "# mostrar los valores singulares\n",
    "print(\"\\nSingular values:\")\n",
    "print(s)"
   ]
  },
  {
   "cell_type": "code",
   "execution_count": 11,
   "metadata": {},
   "outputs": [
    {
     "name": "stdout",
     "output_type": "stream",
     "text": [
      "\n",
      "Singular vectors:\n",
      "[[-4.41602907e-02  8.77565152e-03  2.76910130e-03 ... -1.28926813e-02\n",
      "   2.95628700e-05 -1.22760021e-02]\n",
      " [-3.54134459e-02  1.73998446e-03 -5.50287679e-02 ...  4.96025108e-03\n",
      "  -1.23295744e-03  3.11218058e-03]\n",
      " [-2.28831320e-03 -6.53862608e-03 -1.15336944e-03 ... -1.71825438e-02\n",
      "  -1.46216503e-02  6.84758759e-03]\n",
      " ...\n",
      " [-5.11077396e-04 -4.28113362e-04  7.32949533e-04 ...  4.41406912e-03\n",
      "  -1.63736720e-03  3.99637521e-03]\n",
      " [-1.10253072e-02  8.11922075e-03  1.39688291e-02 ...  2.96531923e-03\n",
      "  -4.19559738e-03 -1.90772256e-02]\n",
      " [-2.26013814e-03 -4.36757596e-03  8.29281424e-04 ...  1.09429257e-02\n",
      "  -2.14697882e-03  1.47059090e-02]]\n",
      "\n",
      "Diagonal matrix:\n",
      "[[-1.45958321e-02 -8.20993943e-03 -1.68208176e-02 ... -1.20821515e-02\n",
      "  -7.28876193e-03 -9.05405288e-03]\n",
      " [-4.54502036e-03 -3.98875605e-03  1.40629407e-02 ... -8.13569186e-03\n",
      "   5.73117953e-03 -9.10962178e-03]\n",
      " [-1.25633639e-03 -4.96339098e-03 -2.74167206e-02 ... -1.31448140e-02\n",
      "   1.09499221e-02 -6.96069230e-03]\n",
      " ...\n",
      " [ 0.00000000e+00  3.02686449e-17  5.26470349e-18 ...  4.27172946e-17\n",
      "  -5.74780143e-17  3.79211038e-17]\n",
      " [ 0.00000000e+00  1.32032912e-16  5.75323216e-20 ...  1.71079626e-17\n",
      "   8.30620341e-17 -3.69112553e-17]\n",
      " [ 0.00000000e+00  9.95856949e-18 -5.06831661e-17 ... -1.08380903e-17\n",
      "  -2.81542757e-17 -4.11208202e-17]]\n"
     ]
    }
   ],
   "source": [
    "#mostarr los vectores singulares y la matriz diagonal\n",
    "print(\"\\nSingular vectors:\")\n",
    "print(u)\n",
    "\n",
    "# mostramos vh que es la matriz diagonal\n",
    "print(\"\\nDiagonal matrix:\")\n",
    "print(vh)"
   ]
  },
  {
   "cell_type": "code",
   "execution_count": 12,
   "metadata": {},
   "outputs": [],
   "source": [
    "# Función para calcular la similitud de coseno entre dos vectores.\n",
    "def cosine_similarity(v, u):\n",
    "    return (v @ u) / (np.linalg.norm(v) * np.linalg.norm(u))"
   ]
  },
  {
   "cell_type": "code",
   "execution_count": 13,
   "metadata": {},
   "outputs": [
    {
     "name": "stdout",
     "output_type": "stream",
     "text": [
      "Column 817 (book id 9998) is most similar to column 0 (book id 10000)\n",
      "Similarity: 0.0000000000000004068468652251858346841361\n"
     ]
    }
   ],
   "source": [
    "# Encontrar la mayor similitud de coseno entre libros.\n",
    "highest_similarity = -np.inf\n",
    "highest_sim_col = -1\n",
    "for col in range(1, vh.shape[1]):\n",
    "    similarity = cosine_similarity(vh[:,0], vh[:,col])\n",
    "    if similarity > highest_similarity:\n",
    "        highest_similarity = similarity\n",
    "        highest_sim_col = col\n",
    "\n",
    "# Imprimir el resultado mostrando qué libro es más similar al primero.\n",
    "print(\"Column %d (book id %s) is most similar to column 0 (book id %s)\" %\n",
    "      (highest_sim_col, reviewmatrix.columns[col], reviewmatrix.columns[0])\n",
    ")\n",
    "\n",
    "# imprimir el valor de la similitud con 10 decimales\n",
    "print(\"Similarity: %.40f\" % highest_similarity)\n"
   ]
  }
 ],
 "metadata": {
  "kernelspec": {
   "display_name": "Python 3",
   "language": "python",
   "name": "python3"
  },
  "language_info": {
   "codemirror_mode": {
    "name": "ipython",
    "version": 3
   },
   "file_extension": ".py",
   "mimetype": "text/x-python",
   "name": "python",
   "nbconvert_exporter": "python",
   "pygments_lexer": "ipython3",
   "version": "3.10.12"
  }
 },
 "nbformat": 4,
 "nbformat_minor": 2
}
